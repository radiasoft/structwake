{
 "cells": [
  {
   "cell_type": "markdown",
   "metadata": {},
   "source": [
    "# Ng1990.ipynb\n",
    "This notebook demonstrates the use of the `swapy` package to reproduce wakefield results for a cylindrical dielectric-lined waveguide as presented in Ng, 1990."
   ]
  },
  {
   "cell_type": "code",
   "execution_count": null,
   "metadata": {},
   "outputs": [],
   "source": [
    "import numpy as np\n",
    "from matplotlib import pyplot as plt\n",
    "\n",
    "from swapy.structures import Cylinder"
   ]
  },
  {
   "cell_type": "markdown",
   "metadata": {},
   "source": [
    "## Define waveguide properties\n",
    "First we'll define the geometric and physical waveguide parameters used in Ng 1990:"
   ]
  },
  {
   "cell_type": "code",
   "execution_count": null,
   "metadata": {},
   "outputs": [],
   "source": [
    "# Define geometric parameters\n",
    "a = 0.1\n",
    "n_xi = 100\n",
    "Xi = np.linspace(1.e-3, 1., n_xi, endpoint=False)\n",
    "\n",
    "# Define physical parameters\n",
    "mu = 1.0\n",
    "eps = np.array([1.2, 2.0, 3.0, 4.0])\n",
    "n_eps = len(eps)"
   ]
  },
  {
   "cell_type": "markdown",
   "metadata": {},
   "source": [
    "## Perform modal calculations\n",
    "Looping over electrical permittivities $\\epsilon$ and aspect ratios $\\xi$, we'll use the `Cylinder` class to construct corresponding waveguides and compute modal quantities:"
   ]
  },
  {
   "cell_type": "code",
   "execution_count": null,
   "metadata": {},
   "outputs": [],
   "source": [
    "#\n",
    "x01 = np.zeros((n_eps, n_xi))\n",
    "x11 = np.zeros((n_eps, n_xi))\n",
    "Fz01 = np.zeros((n_eps, n_xi))\n",
    "Fr11 = np.zeros((n_eps, n_xi))\n",
    "\n",
    "# Loop over epsilon & xi\n",
    "for e in range(n_eps):\n",
    "    epsilon = eps[e]\n",
    "    for n in range(n_xi):\n",
    "        b = Xi[n] * a\n",
    "\n",
    "        # Construct cylindrical waveguide & compute modal quantities\n",
    "        cyl = Cylinder(a, b, mu, epsilon)\n",
    "        G01, _, x01[e,n] = cyl.get_modes(0, 1)\n",
    "        G11, _, x11[e,n] = cyl.get_modes(1, 1)\n",
    "\n",
    "        # Compute wake forces from Green's function amplitudes (Ng, Eqns. 5.2 & 5.4)\n",
    "        Fz01[e, n] = 4. * G01 / (epsilon * Xi[n])\n",
    "        Fr11[e, n] = 8. * np.sqrt(mu * epsilon - 1.) / Xi[n]**2  * (G11 / x11[e,n]) "
   ]
  },
  {
   "cell_type": "markdown",
   "metadata": {},
   "source": [
    "## Plot results\n",
    "Finally, we'll reproduce the six figures from Ng 1990:"
   ]
  },
  {
   "cell_type": "code",
   "execution_count": null,
   "metadata": {},
   "outputs": [],
   "source": [
    "# Plot Figures 1-3 for the lowest reduced eigenfrequencies given m = (0,1)\n",
    "fig, axs = plt.subplots(1, 3, figsize=(20,4))\n",
    "for i in range(3):\n",
    "    axs[i].set_title(\"Figure {:d}\".format(i+1), fontsize=16, y=1.05)\n",
    "for e in range(n_eps):\n",
    "    axs[0].plot(Xi, x01[e], lw=2.5, label=r\"$\\epsilon={:.1f}$\".format(eps[e]))\n",
    "    axs[1].plot(Xi, x11[e], lw=2.5, label=r\"$\\epsilon={:.1f}$\".format(eps[e]))\n",
    "    axs[2].plot(Xi, (x11/x01)[e], lw=2.5, label=r\"$\\epsilon={:.1f}$\".format(eps[e]))\n",
    "for ax in axs:\n",
    "    ax.legend(loc='upper left', fontsize=12)\n",
    "    ax.set_xlabel(r\"$\\xi = b / a$\", fontsize=14)\n",
    "    ax.tick_params(labelsize=14)\n",
    "axs[0].set_ylabel(r\"Eigenfrequency $x_{01}$\", fontsize=14)\n",
    "axs[1].set_ylabel(r\"Eigenfrequency $x_{11}$\", fontsize=14)\n",
    "axs[2].set_ylabel(r\"Eigenfrequency Ratio $x_{11}/x_{01}$\", fontsize=14)\n",
    "axs[0].axis([0., Xi.max(), 0., 30.])\n",
    "axs[1].axis([0., Xi.max(), 0., 30.])\n",
    "axs[2].axis([0., Xi.max(), .75, 1])\n",
    "\n",
    "# Plot Figures 4-6 for the longitudinal & transverse wake forces of the lowest mode given m = (0,1)\n",
    "fig, axs = plt.subplots(1, 3, figsize=(20,4))\n",
    "for i in range(3):\n",
    "    axs[i].set_title(\"Figure {:d}\".format(i+4), fontsize=16, y=1.05)\n",
    "for e in range(n_eps):\n",
    "    axs[0].plot(Xi, Fz01[e], lw=2.5, label=r\"$\\epsilon={:.1f}$\".format(eps[e]))\n",
    "    axs[1].plot(Xi, Fr11[e], lw=2.5, label=r\"$\\epsilon={:.1f}$\".format(eps[e]))\n",
    "    axs[2].plot(Xi, (Fr11/Fz01)[e], lw=2.5, label=r\"$\\epsilon={:.1f}$\".format(eps[e]))\n",
    "for ax in axs:\n",
    "    ax.set_xlabel(r\"$\\xi = b / a$\", fontsize=14)\n",
    "    ax.tick_params(labelsize=14)\n",
    "axs[0].set_ylabel(r\"Longitudinal Wake Force $F_{z01}$\", fontsize=14)\n",
    "axs[1].set_ylabel(r\"Transverse Wake Force $F_{r11}$\", fontsize=14)\n",
    "axs[2].set_ylabel(r\"Wake Force Ratio $F_{r11}/F_{z01}$\", fontsize=14)\n",
    "axs[0].legend(loc='upper right', fontsize=12)\n",
    "axs[1].legend(loc='lower left', fontsize=12)\n",
    "axs[2].legend(loc='upper left', fontsize=12)\n",
    "axs[0].axis([0., Xi.max(), 0., 12.5])\n",
    "axs[1].axis([0., Xi.max(), 0., 2.5])\n",
    "axs[2].axis([0., Xi.max(), 0., .6]);"
   ]
  }
 ],
 "metadata": {
  "kernelspec": {
   "display_name": "Python 3",
   "language": "python",
   "name": "python3"
  },
  "language_info": {
   "codemirror_mode": {
    "name": "ipython",
    "version": 3
   },
   "file_extension": ".py",
   "mimetype": "text/x-python",
   "name": "python",
   "nbconvert_exporter": "python",
   "pygments_lexer": "ipython3",
   "version": "3.11.5"
  }
 },
 "nbformat": 4,
 "nbformat_minor": 2
}
