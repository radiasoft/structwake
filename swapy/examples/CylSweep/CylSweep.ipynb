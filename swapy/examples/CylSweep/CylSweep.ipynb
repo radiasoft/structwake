{
 "cells": [
  {
   "cell_type": "markdown",
   "metadata": {},
   "source": [
    "# CylSweep.ipynb\n",
    "This notebook demonstrates the use of the `swapy` package to produce a set of wakefield Green's functions a cylindrical dielectric-lined waveguide"
   ]
  },
  {
   "cell_type": "code",
   "execution_count": null,
   "metadata": {},
   "outputs": [],
   "source": [
    "import numpy as np\n",
    "from matplotlib import pyplot as plt\n",
    "\n",
    "from swapy import get_bunch\n",
    "from swapy.structures import Cylinder"
   ]
  },
  {
   "cell_type": "markdown",
   "metadata": {},
   "source": [
    "## Define waveguide properties\n",
    "First we'll define arrays of geometric and physical waveguide parameters:"
   ]
  },
  {
   "cell_type": "code",
   "execution_count": null,
   "metadata": {},
   "outputs": [],
   "source": [
    "# Define geometric parameters\n",
    "a = 1. # cm e-2\n",
    "n_xi = 10\n",
    "Xi = np.linspace(1.e-3, 1., n_xi, endpoint=False)\n",
    "\n",
    "# Define physical parameters\n",
    "mu = 1.0\n",
    "n_eps = 8\n",
    "eps = np.linspace(1.5, 5.0, n_eps, endpoint=True)"
   ]
  },
  {
   "cell_type": "markdown",
   "metadata": {},
   "source": [
    "## Define evaluation conditions\n",
    "Next we'll define the evaluation domain and an array of ratios between source and inner radii:"
   ]
  },
  {
   "cell_type": "code",
   "execution_count": null,
   "metadata": {},
   "outputs": [],
   "source": [
    "Lc = 10.    # Length of the cylinder (cm)\n",
    "nZ = 1000   # Number of longitudinal evaluation values\n",
    "nR = 100    # Number of radial evaluation values\n",
    "nr0 = 10    # Number of source radius values\n",
    "n_m = 3     # Number of modes\n",
    "n_lam = 5   # Number of roots per mode\n",
    "\n",
    "# Define radial ratios & longitudinal evaluation values\n",
    "r0_rat = np.linspace(1.e-3, 1., nr0, endpoint=False)\n",
    "R_rat = np.linspace(0., 1., nR, endpoint=False)\n",
    "Z = np.linspace(0., Lc, nZ, endpoint=True)"
   ]
  },
  {
   "cell_type": "markdown",
   "metadata": {},
   "source": [
    "# Generate Green's function data\n",
    "Using the parameters defined above, we can now compute longitudinal and transverse Green's functions:"
   ]
  },
  {
   "cell_type": "code",
   "execution_count": null,
   "metadata": {},
   "outputs": [],
   "source": [
    "GL = np.zeros((n_xi, n_eps, nr0, nR, nZ, n_m*n_lam))\n",
    "GT = np.zeros((n_xi, n_eps, nr0, nR, nZ, n_m*n_lam))\n",
    "\n",
    "# Loop over epsilon & xi\n",
    "for e in range(n_eps):\n",
    "    epsilon = eps[e]\n",
    "    for n in range(n_xi):\n",
    "\n",
    "        # Compute radial values in ratio to a & b\n",
    "        b = Xi[n] * a\n",
    "        r0 = b * r0_rat\n",
    "        R = b * R_rat\n",
    "\n",
    "        # Construct cylindrical waveguide\n",
    "        cyl = Cylinder(a, b, mu, epsilon)\n",
    "\n",
    "        # Loop over mode orders\n",
    "        for m in range(n_m):\n",
    "\n",
    "            # Compute Green's function amplitudes \n",
    "            GLm, GTm = cyl.greens(m, r0, R, Z, n_lam)\n",
    "            GL[n, e, ..., m*n_lam:(m+1)*n_lam] = GLm\n",
    "            GT[n, e, ..., m*n_lam:(m+1)*n_lam] = GTm"
   ]
  },
  {
   "cell_type": "markdown",
   "metadata": {},
   "source": [
    "## Plot a sample of the data\n",
    "### Choose sample for plotting\n",
    "First we'll randomly select a set of waveguide and source parameters ($\\xi$, $\\epsilon$, and $r_0$):"
   ]
  },
  {
   "cell_type": "code",
   "execution_count": null,
   "metadata": {},
   "outputs": [],
   "source": [
    "# Randomly choose waveguide & source parameters\n",
    "rIDs = [\n",
    "    np.random.choice(n_xi),\n",
    "    np.random.choice(n_eps),\n",
    "    np.random.choice(nr0)\n",
    "]\n",
    "r_xi = Xi[rIDs[0]]\n",
    "r_eps = eps[rIDs[1]]\n",
    "r_r0 = (r_xi * a * r0_rat[rIDs[2]])"
   ]
  },
  {
   "cell_type": "markdown",
   "metadata": {},
   "source": [
    "then select a mode and index the corresponding Green's function data:"
   ]
  },
  {
   "cell_type": "code",
   "execution_count": null,
   "metadata": {},
   "outputs": [],
   "source": [
    "# Mode for plotting\n",
    "mode = 1\n",
    "\n",
    "# Green's functions for parameter & mode choices\n",
    "plot_GL = GL[*rIDs, ..., mode*n_lam:(mode+1)*n_lam]\n",
    "plot_GT = GT[*rIDs, ..., mode*n_lam:(mode+1)*n_lam]"
   ]
  },
  {
   "cell_type": "markdown",
   "metadata": {},
   "source": [
    "### Plot Green's functions\n",
    "Now we'll plot the corresponding modal Green's functions:"
   ]
  },
  {
   "cell_type": "code",
   "execution_count": null,
   "metadata": {},
   "outputs": [],
   "source": [
    "#\n",
    "ex = [0., Lc*10., 0., r_xi*a*10]\n",
    "plot_args = {\n",
    "    \"cmap\": 'gray',\n",
    "    \"origin\": 'lower',\n",
    "    \"extent\": ex,\n",
    "    \"aspect\": .3*ex[1]/ex[-1],\n",
    "    \"vmin\": min([plot_GL.min(), plot_GT.min()]),\n",
    "    \"vmax\": max([plot_GL.max(), plot_GT.max()])\n",
    "}\n",
    "\n",
    "#\n",
    "fig, axs = plt.subplots(n_lam, 2, figsize=(18, 5*n_m))\n",
    "fig.suptitle(\n",
    "    r\"Green's Functions, $G_{:s}$\".format(\"{\"+\"{:d}\".format(mode)+\",\\lambda}\")+\n",
    "    \"\\n\"+r\"$\\xi={:.2f}$, $\\epsilon={:.2f}$, $r_0={:.2f}$ cm\".format(r_xi, r_eps, r_r0),\n",
    "    fontsize=18, y=.95\n",
    ")\n",
    "axs[0,0].set_title(r\"Longitudinal\", fontsize=14)\n",
    "axs[0,1].set_title(r\"Transverse\", fontsize=14)\n",
    "for m in range(n_lam):\n",
    "    axs[m,0].imshow(plot_GL[..., m], **plot_args)\n",
    "    axs[m,1].imshow(plot_GT[..., m], **plot_args)\n",
    "    for ax in axs[m]:\n",
    "        ax.set_ylabel(r\"$R$ (mm)\", fontsize=14)\n",
    "        ax.tick_params(labelsize=14)\n",
    "        lam_label = ax.text(.99*ex[1], .97*ex[3], r\"$\\lambda={:d}$\".format(m+1), color='k', fontsize=12, va='top', ha='right')\n",
    "        lam_label.set_bbox(dict(facecolor='white', alpha=1.))\n",
    "for ax in axs[m]:\n",
    "    ax.set_xlabel(r\"$Z$ (mm)\", fontsize=14)"
   ]
  },
  {
   "cell_type": "markdown",
   "metadata": {},
   "source": [
    "### Plot wakefields\n",
    "Finally, we'll define a source bunch and convolve with the above Green's functions to compute and plot modal wake fields:"
   ]
  },
  {
   "cell_type": "code",
   "execution_count": null,
   "metadata": {},
   "outputs": [],
   "source": [
    "# Define a source bunch\n",
    "sigma = .5\n",
    "Q = 100.e-9 * 1e-6\n",
    "bunch = get_bunch(Q, Z, sigma)\n",
    "\n",
    "# Compute wakefields\n",
    "plot_WL = np.array([np.convolve(bunch, G)[0:nZ] for G in plot_GL.sum(axis=2)]) / Q\n",
    "plot_WT = np.array([np.convolve(bunch, G)[0:nZ] for G in plot_GT.sum(axis=2)]) / Q"
   ]
  },
  {
   "cell_type": "code",
   "execution_count": null,
   "metadata": {},
   "outputs": [],
   "source": [
    "plot_args = {\n",
    "    \"cmap\": 'gray',\n",
    "    \"origin\": 'lower',\n",
    "    \"extent\": ex,\n",
    "    \"aspect\": .45*ex[1]/ex[-1],\n",
    "    \"vmin\": min([plot_WL.min(), plot_WT.min()]),\n",
    "    \"vmax\": max([plot_WL.max(), plot_WT.max()])\n",
    "}\n",
    "\n",
    "#\n",
    "fig, axs = plt.subplots(1, 2, figsize=(18, 5))\n",
    "fig.suptitle(\n",
    "    r\"Wake Fields, $W(R,Z)$\"+\n",
    "    \"\\n\"+r\"$\\xi={:.2f}$, $\\epsilon={:.2f}$, $r_0={:.2f}$ cm\".format(r_xi, r_eps, r_r0),\n",
    "    fontsize=18, y=.99\n",
    ")\n",
    "axs[0].set_title(r\"Longitudinal\", fontsize=14)\n",
    "axs[1].set_title(r\"Transverse\", fontsize=14)\n",
    "axs[0].imshow(plot_WL, **plot_args)\n",
    "axs[1].imshow(plot_WT, **plot_args)\n",
    "for ax in axs:\n",
    "    ax.tick_params(labelsize=14)\n",
    "for ax in axs:\n",
    "    ax.set_ylabel(r\"$R$ (mm)\", fontsize=14)\n",
    "    ax.set_xlabel(r\"$Z$ (mm)\", fontsize=14)"
   ]
  },
  {
   "cell_type": "code",
   "execution_count": null,
   "metadata": {},
   "outputs": [],
   "source": [
    "Rind = -1\n",
    "plot_R = R[Rind]\n",
    "plot_rho = (bunch/bunch.sum())*1.e2\n",
    "\n",
    "fig, axs = plt.subplots(1, 2, figsize=(18,5))\n",
    "fig.suptitle(\n",
    "    r\"Wake Fields, $W(R={:.2f}$ cm, $Z)$\".format(plot_R)+\n",
    "    \"\\n\"+r\"$\\xi={:.2f}$, $\\epsilon={:.2f}$, $r_0={:.2f}$ cm\".format(r_xi, r_eps, r_r0),\n",
    "    fontsize=18, y=1.1\n",
    ")\n",
    "axs[0].set_title(r\"Longitudinal\", fontsize=14)\n",
    "axs[1].set_title(r\"Transverse\", fontsize=14)\n",
    "axs[0].plot(Z, plot_WL[-1], 'k', lw=2.5)\n",
    "axs[1].plot(Z, plot_WT[-1], 'k', lw=2.5)\n",
    "axts = []\n",
    "for ax in axs:\n",
    "    axts.append(ax.twinx())\n",
    "    axts[-1].plot(Z, plot_rho, c='g', lw=2.5)\n",
    "    axts[-1].set_ylabel('Charge Density ($\\%$)', fontsize=14, color='g')\n",
    "    axts[-1].axis([Z.min(), Z.max(), 0., 2*plot_rho.max()])\n",
    "    axts[-1].tick_params(labelsize=14, labelcolor='g')\n",
    "axs[0].axis([0, Z.max(), 4.1*plot_WL.min(), 1.1*plot_WL.max()])\n",
    "axs[1].axis([0, Z.max(), 4.1*plot_WT.min(), 1.1*plot_WT.max()])\n",
    "for ax in axs:\n",
    "    ax.tick_params(labelsize=14)\n",
    "for ax in axs:\n",
    "    ax.set_ylabel(r\"$W(Z)$\", fontsize=14)\n",
    "    ax.set_xlabel(r\"$Z$ (mm)\", fontsize=14)\n",
    "fig.subplots_adjust(wspace=.275)"
   ]
  },
  {
   "cell_type": "code",
   "execution_count": null,
   "metadata": {},
   "outputs": [],
   "source": []
  }
 ],
 "metadata": {
  "kernelspec": {
   "display_name": "Python 3",
   "language": "python",
   "name": "python3"
  },
  "language_info": {
   "codemirror_mode": {
    "name": "ipython",
    "version": 3
   },
   "file_extension": ".py",
   "mimetype": "text/x-python",
   "name": "python",
   "nbconvert_exporter": "python",
   "pygments_lexer": "ipython3",
   "version": "3.11.5"
  }
 },
 "nbformat": 4,
 "nbformat_minor": 2
}
